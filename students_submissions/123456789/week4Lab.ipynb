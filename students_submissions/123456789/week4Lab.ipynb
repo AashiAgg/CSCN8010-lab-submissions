{
 "cells": [
  {
   "cell_type": "code",
   "execution_count": 3,
   "metadata": {},
   "outputs": [
    {
     "name": "stdout",
     "output_type": "stream",
     "text": [
      "2\n",
      "2\n"
     ]
    }
   ],
   "source": [
    "def add(x):\n",
    "    return x+1\n",
    "# representing same function as a lamda function\n",
    "x = 1\n",
    "print(add(x))\n",
    "addOne = lambda x:x+1\n",
    "print(addOne(x))"
   ]
  },
  {
   "cell_type": "code",
   "execution_count": 4,
   "metadata": {},
   "outputs": [
    {
     "name": "stdout",
     "output_type": "stream",
     "text": [
      "4\n"
     ]
    }
   ],
   "source": [
    "multiply = lambda x,y: x*y\n",
    "print(multiply(2,2))"
   ]
  },
  {
   "cell_type": "code",
   "execution_count": 7,
   "metadata": {},
   "outputs": [
    {
     "data": {
      "text/plain": [
       "'Your full name is Islam , Mahmoud'"
      ]
     },
     "execution_count": 7,
     "metadata": {},
     "output_type": "execute_result"
    }
   ],
   "source": [
    "def fullName(firstName, lastName):\n",
    "    name = firstName + ' , ' + lastName\n",
    "    return f'Your full name is {name}'\n",
    "\n",
    "fullNameLambda = lambda firstName, lastName:'Your full name'+ \\\n",
    "f' is {firstName} , {lastName}'\n",
    "fullNameLambda(\"Islam\",\"Mahmoud\")"
   ]
  },
  {
   "cell_type": "code",
   "execution_count": 8,
   "metadata": {},
   "outputs": [
    {
     "data": {
      "text/plain": [
       "'1.19.5'"
      ]
     },
     "execution_count": 8,
     "metadata": {},
     "output_type": "execute_result"
    }
   ],
   "source": [
    "import numpy as np\n",
    "np.__version__"
   ]
  },
  {
   "cell_type": "code",
   "execution_count": 11,
   "metadata": {},
   "outputs": [
    {
     "data": {
      "text/plain": [
       "array([1, 3, 5, 7, 9])"
      ]
     },
     "execution_count": 11,
     "metadata": {},
     "output_type": "execute_result"
    }
   ],
   "source": [
    "# creating simple array from list values\n",
    "pythonList = [1,2,3]\n",
    "numpyArray1 = np.array(pythonList)\n",
    "# creating a numpy array- range of values\n",
    "# arange takes start inclusive, stop exclusive, and steps taken\n",
    "# default steps is 1\n",
    "numpyArray2 = np.arange(1,10,2)\n",
    "numpyArray2"
   ]
  },
  {
   "cell_type": "code",
   "execution_count": 14,
   "metadata": {},
   "outputs": [
    {
     "data": {
      "text/plain": [
       "2"
      ]
     },
     "execution_count": 14,
     "metadata": {},
     "output_type": "execute_result"
    }
   ],
   "source": [
    "numpyFirst2D = np.array([[1,2,3]\n",
    "                        ,[5,6,7]])\n",
    "# checking how many dimensions do we have\n",
    "numpyFirst2D.ndim"
   ]
  },
  {
   "cell_type": "code",
   "execution_count": 23,
   "metadata": {},
   "outputs": [
    {
     "name": "stdout",
     "output_type": "stream",
     "text": [
      "[[[[[1 2 3]]]]]\n",
      "1\n",
      "2\n",
      "9\n"
     ]
    }
   ],
   "source": [
    "# defining array and setting it to specific dimensions\n",
    "print(np.array(pythonList, ndmin=5))\n",
    "# accessing element in numpy array \n",
    "print(numpyArray1[0])\n",
    "# accessing nd-arrays \n",
    "print(numpyFirst2D[1,1]) # can also be written as numpyFirst2[1][1]\n",
    "# negative indexing\n",
    "print(numpyArray2[-1])"
   ]
  },
  {
   "cell_type": "code",
   "execution_count": 30,
   "metadata": {},
   "outputs": [
    {
     "data": {
      "text/plain": [
       "array([1, 3, 5, 7, 9])"
      ]
     },
     "execution_count": 30,
     "metadata": {},
     "output_type": "execute_result"
    }
   ],
   "source": [
    "numpyArray2"
   ]
  },
  {
   "cell_type": "code",
   "execution_count": 33,
   "metadata": {},
   "outputs": [
    {
     "data": {
      "text/plain": [
       "array([1, 5, 9])"
      ]
     },
     "execution_count": 33,
     "metadata": {},
     "output_type": "execute_result"
    }
   ],
   "source": [
    "# extracts numpy elements from index 1 to index 3 (index 4 excluded)\n",
    "numpyArray2[1:4] # takes start:end:step, can also be written as:\n",
    "# numpyArray2[1:-1]\n",
    "numpyArray2[::2] # if start and end are not written, step is written\n",
    "# then all array will be shown by taking step of 2"
   ]
  },
  {
   "cell_type": "code",
   "execution_count": 50,
   "metadata": {},
   "outputs": [
    {
     "name": "stdout",
     "output_type": "stream",
     "text": [
      "[0 3 5 7 9] [0 3 5 7 9]\n",
      "[2 3 5 7 9] [0 3 5 7 9]\n"
     ]
    }
   ],
   "source": [
    "numpyArray2 = np.arange(1,10,2)\n",
    "# incorrect way of copying\n",
    "arr3= numpyArray2.view()\n",
    "\n",
    "arr4 = numpyArray2.copy()\n",
    "\n",
    "arr3[0]=0\n",
    "print(arr3, numpyArray2)\n",
    "# correct way\n",
    "arr4[0]=2\n",
    "print(arr4, numpyArray2)"
   ]
  },
  {
   "cell_type": "code",
   "execution_count": 51,
   "metadata": {},
   "outputs": [
    {
     "name": "stdout",
     "output_type": "stream",
     "text": [
      "[0 3 5 7 9] None None\n"
     ]
    }
   ],
   "source": [
    "print(arr3.base, arr4.base, numpyArray2.base)"
   ]
  },
  {
   "cell_type": "code",
   "execution_count": 52,
   "metadata": {},
   "outputs": [
    {
     "data": {
      "text/plain": [
       "(5,)"
      ]
     },
     "execution_count": 52,
     "metadata": {},
     "output_type": "execute_result"
    }
   ],
   "source": [
    "# shape returns the array shape as tuple\n",
    "numpyArray2.shape\n"
   ]
  },
  {
   "cell_type": "code",
   "execution_count": 57,
   "metadata": {},
   "outputs": [
    {
     "name": "stdout",
     "output_type": "stream",
     "text": [
      "1\n",
      "2\n",
      "3\n",
      "1\n",
      "2\n",
      "3\n"
     ]
    }
   ],
   "source": [
    "# reshapes the array\n",
    "numpyFirst2D.reshape((3,2))\n",
    "# iterating without bothering the dimensions value\n",
    "for element in np.nditer(numpyFirst2D):\n",
    "    print(element)"
   ]
  },
  {
   "cell_type": "code",
   "execution_count": 62,
   "metadata": {},
   "outputs": [
    {
     "name": "stdout",
     "output_type": "stream",
     "text": [
      "[2 3 5 7 9] [1 2 3]\n"
     ]
    },
    {
     "data": {
      "text/plain": [
       "array([2, 3, 5, 7, 9, 1, 2, 3])"
      ]
     },
     "execution_count": 62,
     "metadata": {},
     "output_type": "execute_result"
    }
   ],
   "source": [
    "print(arr4, numpyArray1)\n",
    "arr5 = np.concatenate((arr4,numpyArray1))\n",
    "arr5"
   ]
  },
  {
   "cell_type": "code",
   "execution_count": 69,
   "metadata": {},
   "outputs": [
    {
     "data": {
      "text/plain": [
       "(2, 3)"
      ]
     },
     "execution_count": 69,
     "metadata": {},
     "output_type": "execute_result"
    }
   ],
   "source": [
    "numpyFirst2D.shape"
   ]
  },
  {
   "cell_type": "code",
   "execution_count": 74,
   "metadata": {},
   "outputs": [
    {
     "data": {
      "text/plain": [
       "array([[1, 2, 3],\n",
       "       [1, 2, 3],\n",
       "       [1, 2, 3]])"
      ]
     },
     "execution_count": 74,
     "metadata": {},
     "output_type": "execute_result"
    }
   ],
   "source": [
    "# adding 1d to a 2d array, needs to be reshaped first to match\n",
    "# the dimensions\n",
    "numpyArray1Reshaped = numpyArray1.reshape(-1,3)\n",
    "arr6 = np.concatenate((numpyFirst2D, numpyArray1Reshaped))\n",
    "arr6\n"
   ]
  },
  {
   "cell_type": "code",
   "execution_count": 93,
   "metadata": {},
   "outputs": [
    {
     "data": {
      "text/plain": [
       "(array([0, 2], dtype=int64),)"
      ]
     },
     "execution_count": 93,
     "metadata": {},
     "output_type": "execute_result"
    }
   ],
   "source": [
    "# returns the index where the condition is True\n",
    "np.where(numpyArray1!=2)"
   ]
  },
  {
   "cell_type": "code",
   "execution_count": 92,
   "metadata": {},
   "outputs": [
    {
     "data": {
      "text/plain": [
       "array([22, 12, 10,  8,  7,  3,  2,  1])"
      ]
     },
     "execution_count": 92,
     "metadata": {},
     "output_type": "execute_result"
    }
   ],
   "source": [
    "numpyArrayUnsorted = np.array([10,2,3,7,12,8,22,1])\n",
    "# sorting\n",
    "np.sort(numpyArrayUnsorted)\n",
    "# reverse sorting\n",
    "np.sort(numpyArrayUnsorted)[::-1]"
   ]
  },
  {
   "cell_type": "code",
   "execution_count": 94,
   "metadata": {},
   "outputs": [
    {
     "data": {
      "text/plain": [
       "array([1, 3])"
      ]
     },
     "execution_count": 94,
     "metadata": {},
     "output_type": "execute_result"
    }
   ],
   "source": [
    "# filtering array\n",
    "filterX = np.where(numpyArray1!=2)\n",
    "numpyArray1[filterX]"
   ]
  },
  {
   "cell_type": "code",
   "execution_count": 99,
   "metadata": {},
   "outputs": [
    {
     "data": {
      "text/plain": [
       "array([14, 13, 10, 14, 13, 10, 13, 12, 11, 10, 14, 11, 13, 15, 15, 15, 13,\n",
       "       11, 15, 14])"
      ]
     },
     "execution_count": 99,
     "metadata": {},
     "output_type": "execute_result"
    }
   ],
   "source": [
    "from numpy import random\n",
    "# setting a seed so every run I get the same value\n",
    "random.seed(10)\n",
    "# returns float from 0-1 of size 10\n",
    "random.rand(10)\n",
    "# returns int from 10 to 15 (16 excluded) of size 20\n",
    "random.randint(10,16,20)"
   ]
  },
  {
   "cell_type": "code",
   "execution_count": 103,
   "metadata": {},
   "outputs": [
    {
     "data": {
      "text/plain": [
       "array([[nan, nan, nan, nan, nan, nan, nan, nan, nan, nan],\n",
       "       [nan, nan, nan, nan, nan, nan, nan, nan, nan, nan],\n",
       "       [nan, nan, nan, nan, nan, nan, nan, nan, nan, nan],\n",
       "       [nan, nan, nan, nan, nan, nan, nan, nan, nan, nan],\n",
       "       [nan, nan, nan, nan, nan, nan, nan, nan, nan, nan],\n",
       "       [nan, nan, nan, nan, nan, nan, nan, nan, nan, nan],\n",
       "       [nan, nan, nan, nan, nan, nan, nan, nan, nan, nan],\n",
       "       [nan, nan, nan, nan, nan, nan, nan, nan, nan, nan],\n",
       "       [nan, nan, nan, nan, nan, nan, nan, nan, nan, nan],\n",
       "       [nan, nan, nan, nan, nan, nan, nan, nan, nan, nan]])"
      ]
     },
     "execution_count": 103,
     "metadata": {},
     "output_type": "execute_result"
    }
   ],
   "source": [
    "# numpy array of zeros\n",
    "np.zeros((10,10))\n",
    "# numpy array of ones\n",
    "np.ones((10,10))\n",
    "# numpy full array of specified value (here nan)\n",
    "np.full((10,10),np.nan)"
   ]
  },
  {
   "cell_type": "code",
   "execution_count": null,
   "metadata": {},
   "outputs": [],
   "source": []
  }
 ],
 "metadata": {
  "kernelspec": {
   "display_name": "Python 3",
   "language": "python",
   "name": "python3"
  },
  "language_info": {
   "codemirror_mode": {
    "name": "ipython",
    "version": 3
   },
   "file_extension": ".py",
   "mimetype": "text/x-python",
   "name": "python",
   "nbconvert_exporter": "python",
   "pygments_lexer": "ipython3",
   "version": "3.7.7"
  },
  "orig_nbformat": 4
 },
 "nbformat": 4,
 "nbformat_minor": 2
}
