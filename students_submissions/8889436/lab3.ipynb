{
 "cells": [
  {
   "attachments": {},
   "cell_type": "markdown",
   "metadata": {},
   "source": [
    "# Lab 3 : Sudhan Shrestha 8889436"
   ]
  },
  {
   "cell_type": "code",
   "execution_count": 2,
   "metadata": {},
   "outputs": [],
   "source": [
    "from sklearn import datasets\n",
    "from sklearn.model_selection import train_test_split\n",
    "from sklearn.linear_model import LinearRegression\n",
    "from sklearn import metrics\n",
    "import matplotlib.pyplot as plt\n",
    "import plotly.express as px\n",
    "import numpy as np\n",
    "import pandas as pd"
   ]
  },
  {
   "cell_type": "code",
   "execution_count": 3,
   "metadata": {},
   "outputs": [],
   "source": [
    "# Getting the data\n",
    "diabetes_X, diabetes_y = datasets.load_diabetes(return_X_y=True)"
   ]
  },
  {
   "cell_type": "code",
   "execution_count": 4,
   "metadata": {},
   "outputs": [
    {
     "name": "stdout",
     "output_type": "stream",
     "text": [
      "Shape of the data imported : \n",
      "\n",
      "diabetes_X Shape : (442, 10)\n",
      "diabetes_y Shape : (442,)\n",
      "new_diabetes_X Shape: (4420, 1)\n",
      "\n",
      "Feature Names : ['age', 'sex', 'bmi', 'bp', 's1', 's2', 's3', 's4', 's5', 's6']\n"
     ]
    }
   ],
   "source": [
    "print(f\"Shape of the data imported : \\n\")\n",
    "print(f\"diabetes_X Shape : {diabetes_X.shape}\")\n",
    "print(f\"diabetes_y Shape : {diabetes_y.shape}\")\n",
    "\n",
    "# Reshaping the diabetes_X for our model\n",
    "new_diabetes_X = diabetes_X.reshape(-1,1)\n",
    "print(f\"new_diabetes_X Shape: {new_diabetes_X.shape}\")\n",
    "\n",
    "# importing the feature names of the data\n",
    "feature_names = datasets.load_diabetes().feature_names\n",
    "print(f\"\\nFeature Names : {feature_names}\")"
   ]
  },
  {
   "attachments": {},
   "cell_type": "markdown",
   "metadata": {},
   "source": [
    "## Statistics of data of diabeties_X"
   ]
  },
  {
   "cell_type": "code",
   "execution_count": 5,
   "metadata": {
    "tags": [
     "noshow"
    ]
   },
   "outputs": [
    {
     "data": {
      "text/html": [
       "<div>\n",
       "<style scoped>\n",
       "    .dataframe tbody tr th:only-of-type {\n",
       "        vertical-align: middle;\n",
       "    }\n",
       "\n",
       "    .dataframe tbody tr th {\n",
       "        vertical-align: top;\n",
       "    }\n",
       "\n",
       "    .dataframe thead th {\n",
       "        text-align: right;\n",
       "    }\n",
       "</style>\n",
       "<table border=\"1\" class=\"dataframe\">\n",
       "  <thead>\n",
       "    <tr style=\"text-align: right;\">\n",
       "      <th></th>\n",
       "      <th>age</th>\n",
       "      <th>sex</th>\n",
       "      <th>bmi</th>\n",
       "      <th>bp</th>\n",
       "      <th>s1</th>\n",
       "      <th>s2</th>\n",
       "      <th>s3</th>\n",
       "      <th>s4</th>\n",
       "      <th>s5</th>\n",
       "      <th>s6</th>\n",
       "    </tr>\n",
       "  </thead>\n",
       "  <tbody>\n",
       "    <tr>\n",
       "      <th>Mean</th>\n",
       "      <td>-1.444295e-18</td>\n",
       "      <td>2.543215e-18</td>\n",
       "      <td>-2.255925e-16</td>\n",
       "      <td>-4.854086e-17</td>\n",
       "      <td>-1.428596e-17</td>\n",
       "      <td>3.898811e-17</td>\n",
       "      <td>-6.028360e-18</td>\n",
       "      <td>-1.788100e-17</td>\n",
       "      <td>9.243486e-17</td>\n",
       "      <td>1.351770e-17</td>\n",
       "    </tr>\n",
       "    <tr>\n",
       "      <th>Standard Deviation</th>\n",
       "      <td>4.756515e-02</td>\n",
       "      <td>4.756515e-02</td>\n",
       "      <td>4.756515e-02</td>\n",
       "      <td>4.756515e-02</td>\n",
       "      <td>4.756515e-02</td>\n",
       "      <td>4.756515e-02</td>\n",
       "      <td>4.756515e-02</td>\n",
       "      <td>4.756515e-02</td>\n",
       "      <td>4.756515e-02</td>\n",
       "      <td>4.756515e-02</td>\n",
       "    </tr>\n",
       "    <tr>\n",
       "      <th>Minimum</th>\n",
       "      <td>-1.072256e-01</td>\n",
       "      <td>-4.464164e-02</td>\n",
       "      <td>-9.027530e-02</td>\n",
       "      <td>-1.123988e-01</td>\n",
       "      <td>-1.267807e-01</td>\n",
       "      <td>-1.156131e-01</td>\n",
       "      <td>-1.023071e-01</td>\n",
       "      <td>-7.639450e-02</td>\n",
       "      <td>-1.260971e-01</td>\n",
       "      <td>-1.377672e-01</td>\n",
       "    </tr>\n",
       "    <tr>\n",
       "      <th>Maxmium</th>\n",
       "      <td>1.107267e-01</td>\n",
       "      <td>5.068012e-02</td>\n",
       "      <td>1.705552e-01</td>\n",
       "      <td>1.320436e-01</td>\n",
       "      <td>1.539137e-01</td>\n",
       "      <td>1.987880e-01</td>\n",
       "      <td>1.811791e-01</td>\n",
       "      <td>1.852344e-01</td>\n",
       "      <td>1.335973e-01</td>\n",
       "      <td>1.356118e-01</td>\n",
       "    </tr>\n",
       "  </tbody>\n",
       "</table>\n",
       "</div>"
      ],
      "text/plain": [
       "                             age           sex           bmi            bp   \n",
       "Mean               -1.444295e-18  2.543215e-18 -2.255925e-16 -4.854086e-17  \\\n",
       "Standard Deviation  4.756515e-02  4.756515e-02  4.756515e-02  4.756515e-02   \n",
       "Minimum            -1.072256e-01 -4.464164e-02 -9.027530e-02 -1.123988e-01   \n",
       "Maxmium             1.107267e-01  5.068012e-02  1.705552e-01  1.320436e-01   \n",
       "\n",
       "                              s1            s2            s3            s4   \n",
       "Mean               -1.428596e-17  3.898811e-17 -6.028360e-18 -1.788100e-17  \\\n",
       "Standard Deviation  4.756515e-02  4.756515e-02  4.756515e-02  4.756515e-02   \n",
       "Minimum            -1.267807e-01 -1.156131e-01 -1.023071e-01 -7.639450e-02   \n",
       "Maxmium             1.539137e-01  1.987880e-01  1.811791e-01  1.852344e-01   \n",
       "\n",
       "                              s5            s6  \n",
       "Mean                9.243486e-17  1.351770e-17  \n",
       "Standard Deviation  4.756515e-02  4.756515e-02  \n",
       "Minimum            -1.260971e-01 -1.377672e-01  \n",
       "Maxmium             1.335973e-01  1.356118e-01  "
      ]
     },
     "execution_count": 5,
     "metadata": {},
     "output_type": "execute_result"
    }
   ],
   "source": [
    "X_mean = np.mean(diabetes_X, axis=0)\n",
    "X_sd = np.std(diabetes_X, axis=0)\n",
    "X_min = np.min(diabetes_X,axis=0)\n",
    "X_max = np.max(diabetes_X, axis=0)\n",
    "stat_names = ['Mean', 'Standard Deviation', 'Minimum', 'Maxmium']\n",
    "df = pd.DataFrame([X_mean, X_sd, X_min, X_max], columns=feature_names, index=stat_names)\n",
    "df\n"
   ]
  },
  {
   "attachments": {},
   "cell_type": "markdown",
   "metadata": {},
   "source": [
    "## Statistics of data of diabeties_y"
   ]
  },
  {
   "cell_type": "code",
   "execution_count": 12,
   "metadata": {
    "tags": [
     "noshow"
    ]
   },
   "outputs": [
    {
     "name": "stdout",
     "output_type": "stream",
     "text": [
      "77.00574586945044\n"
     ]
    },
    {
     "data": {
      "text/html": [
       "<div>\n",
       "<style scoped>\n",
       "    .dataframe tbody tr th:only-of-type {\n",
       "        vertical-align: middle;\n",
       "    }\n",
       "\n",
       "    .dataframe tbody tr th {\n",
       "        vertical-align: top;\n",
       "    }\n",
       "\n",
       "    .dataframe thead th {\n",
       "        text-align: right;\n",
       "    }\n",
       "</style>\n",
       "<table border=\"1\" class=\"dataframe\">\n",
       "  <thead>\n",
       "    <tr style=\"text-align: right;\">\n",
       "      <th></th>\n",
       "      <th>Mean</th>\n",
       "      <th>Standard Deviation</th>\n",
       "      <th>Minimum Value</th>\n",
       "      <th>Maximum Value</th>\n",
       "    </tr>\n",
       "  </thead>\n",
       "  <tbody>\n",
       "    <tr>\n",
       "      <th>0</th>\n",
       "      <td>152.133484</td>\n",
       "      <td>77.005746</td>\n",
       "      <td>25.0</td>\n",
       "      <td>346.0</td>\n",
       "    </tr>\n",
       "  </tbody>\n",
       "</table>\n",
       "</div>"
      ],
      "text/plain": [
       "         Mean  Standard Deviation  Minimum Value  Maximum Value\n",
       "0  152.133484           77.005746           25.0          346.0"
      ]
     },
     "execution_count": 12,
     "metadata": {},
     "output_type": "execute_result"
    }
   ],
   "source": [
    "y_mean = np.mean(diabetes_y, axis=0)\n",
    "y_sd = np.std(diabetes_y, axis=0)\n",
    "y_min =  np.min(diabetes_y,axis=0)\n",
    "y_max = np.max(diabetes_y, axis=0)\n",
    "column_name =feature_names\n",
    "\n",
    "\n",
    "print(y_sd)\n",
    "\n",
    "data_poyab = {'Mean': [y_mean], 'Standard Deviation': [y_sd], 'Minimum Value': [y_min], 'Maximum Value':y_max, }\n",
    "\n",
    "df = pd.DataFrame(data=data_poyab)\n",
    "df"
   ]
  },
  {
   "cell_type": "code",
   "execution_count": null,
   "metadata": {},
   "outputs": [],
   "source": [
    "model = LinearRegression()"
   ]
  }
 ],
 "metadata": {
  "kernelspec": {
   "display_name": "CSCN8010_classic_ml",
   "language": "python",
   "name": "cscn8010_classic_ml"
  },
  "language_info": {
   "codemirror_mode": {
    "name": "ipython",
    "version": 3
   },
   "file_extension": ".py",
   "mimetype": "text/x-python",
   "name": "python",
   "nbconvert_exporter": "python",
   "pygments_lexer": "ipython3",
   "version": "3.11.1"
  },
  "orig_nbformat": 4
 },
 "nbformat": 4,
 "nbformat_minor": 2
}
