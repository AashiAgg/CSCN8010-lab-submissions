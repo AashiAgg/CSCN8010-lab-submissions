{
 "cells": [
  {
   "cell_type": "code",
   "execution_count": 54,
   "metadata": {},
   "outputs": [],
   "source": [
    "import numpy as np\n",
    "import pandas as pd\n",
    "import matplotlib.pyplot as plt\n",
    "from sklearn.datasets import load_diabetes\n",
    "from sklearn.model_selection import train_test_split\n",
    "from sklearn.linear_model import LinearRegression\n",
    "from sklearn.preprocessing import PolynomialFeatures\n",
    "from sklearn.metrics import mean_absolute_error, mean_absolute_percentage_error\n",
    "from sklearn.pipeline import Pipeline\n",
    "\n"
   ]
  },
  {
   "attachments": {},
   "cell_type": "markdown",
   "metadata": {},
   "source": [
    "#### 1. Use the code provided below to get the data, and run the train-test split. Description of each column can be found in [sklearn documentation](https://scikit-learn.org/stable/datasets/toy_dataset.html#diabetes-dataset). Look at the [documentation](https://scikit-learn.org/stable/modules/generated/sklearn.datasets.load_diabetes.html#sklearn.datasets.load_diabetes) for the `load_diabetes` method to know what are `as_frame` and `scaled` for."
   ]
  },
  {
   "cell_type": "code",
   "execution_count": 55,
   "metadata": {},
   "outputs": [
    {
     "data": {
      "text/html": [
       "<div>\n",
       "<style scoped>\n",
       "    .dataframe tbody tr th:only-of-type {\n",
       "        vertical-align: middle;\n",
       "    }\n",
       "\n",
       "    .dataframe tbody tr th {\n",
       "        vertical-align: top;\n",
       "    }\n",
       "\n",
       "    .dataframe thead th {\n",
       "        text-align: right;\n",
       "    }\n",
       "</style>\n",
       "<table border=\"1\" class=\"dataframe\">\n",
       "  <thead>\n",
       "    <tr style=\"text-align: right;\">\n",
       "      <th></th>\n",
       "      <th>age</th>\n",
       "      <th>sex</th>\n",
       "      <th>bmi</th>\n",
       "      <th>bp</th>\n",
       "      <th>s1</th>\n",
       "      <th>s2</th>\n",
       "      <th>s3</th>\n",
       "      <th>s4</th>\n",
       "      <th>s5</th>\n",
       "      <th>s6</th>\n",
       "    </tr>\n",
       "  </thead>\n",
       "  <tbody>\n",
       "    <tr>\n",
       "      <th>0</th>\n",
       "      <td>59.0</td>\n",
       "      <td>2.0</td>\n",
       "      <td>32.1</td>\n",
       "      <td>101.0</td>\n",
       "      <td>157.0</td>\n",
       "      <td>93.2</td>\n",
       "      <td>38.0</td>\n",
       "      <td>4.0</td>\n",
       "      <td>4.8598</td>\n",
       "      <td>87.0</td>\n",
       "    </tr>\n",
       "    <tr>\n",
       "      <th>1</th>\n",
       "      <td>48.0</td>\n",
       "      <td>1.0</td>\n",
       "      <td>21.6</td>\n",
       "      <td>87.0</td>\n",
       "      <td>183.0</td>\n",
       "      <td>103.2</td>\n",
       "      <td>70.0</td>\n",
       "      <td>3.0</td>\n",
       "      <td>3.8918</td>\n",
       "      <td>69.0</td>\n",
       "    </tr>\n",
       "    <tr>\n",
       "      <th>2</th>\n",
       "      <td>72.0</td>\n",
       "      <td>2.0</td>\n",
       "      <td>30.5</td>\n",
       "      <td>93.0</td>\n",
       "      <td>156.0</td>\n",
       "      <td>93.6</td>\n",
       "      <td>41.0</td>\n",
       "      <td>4.0</td>\n",
       "      <td>4.6728</td>\n",
       "      <td>85.0</td>\n",
       "    </tr>\n",
       "    <tr>\n",
       "      <th>3</th>\n",
       "      <td>24.0</td>\n",
       "      <td>1.0</td>\n",
       "      <td>25.3</td>\n",
       "      <td>84.0</td>\n",
       "      <td>198.0</td>\n",
       "      <td>131.4</td>\n",
       "      <td>40.0</td>\n",
       "      <td>5.0</td>\n",
       "      <td>4.8903</td>\n",
       "      <td>89.0</td>\n",
       "    </tr>\n",
       "    <tr>\n",
       "      <th>4</th>\n",
       "      <td>50.0</td>\n",
       "      <td>1.0</td>\n",
       "      <td>23.0</td>\n",
       "      <td>101.0</td>\n",
       "      <td>192.0</td>\n",
       "      <td>125.4</td>\n",
       "      <td>52.0</td>\n",
       "      <td>4.0</td>\n",
       "      <td>4.2905</td>\n",
       "      <td>80.0</td>\n",
       "    </tr>\n",
       "  </tbody>\n",
       "</table>\n",
       "</div>"
      ],
      "text/plain": [
       "    age  sex   bmi     bp     s1     s2    s3   s4      s5    s6\n",
       "0  59.0  2.0  32.1  101.0  157.0   93.2  38.0  4.0  4.8598  87.0\n",
       "1  48.0  1.0  21.6   87.0  183.0  103.2  70.0  3.0  3.8918  69.0\n",
       "2  72.0  2.0  30.5   93.0  156.0   93.6  41.0  4.0  4.6728  85.0\n",
       "3  24.0  1.0  25.3   84.0  198.0  131.4  40.0  5.0  4.8903  89.0\n",
       "4  50.0  1.0  23.0  101.0  192.0  125.4  52.0  4.0  4.2905  80.0"
      ]
     },
     "execution_count": 55,
     "metadata": {},
     "output_type": "execute_result"
    }
   ],
   "source": [
    "diabetes = load_diabetes()\n",
    "\n",
    "X, y = load_diabetes(as_frame=True, scaled=False, return_X_y=True)\n",
    "\n",
    "X_train, X_test, y_train, y_test = train_test_split(X, y, test_size=0.2, random_state=42)\n",
    "\n",
    "X.head()"
   ]
  },
  {
   "attachments": {},
   "cell_type": "markdown",
   "metadata": {},
   "source": [
    "#### 2. Run a multivariate linear regression on all variables **(1 point)**"
   ]
  },
  {
   "cell_type": "code",
   "execution_count": 56,
   "metadata": {},
   "outputs": [
    {
     "name": "stdout",
     "output_type": "stream",
     "text": [
      "Linear Regression MAE: 42.794094679599944\n",
      "Linear Regression MAPE: 0.3749982636756115\n"
     ]
    }
   ],
   "source": [
    "# Perform multivariate linear regression\n",
    "linear_regression = LinearRegression()\n",
    "linear_regression.fit(X_train, y_train)\n",
    "linear_predictions = linear_regression.predict(X_test)\n",
    "\n",
    "# Calculate the Mean Absolute Error (MAE) and Mean Absolute Percentage Error (MAPE) for linear regression\n",
    "linear_mae = mean_absolute_error(y_test, linear_predictions)\n",
    "linear_mape = mean_absolute_percentage_error(y_test, linear_predictions)\n",
    "\n",
    "\n",
    "# Print the MAE and MAPE\n",
    "print(\"Linear Regression MAE:\", linear_mae)\n",
    "print(\"Linear Regression MAPE:\", linear_mape)"
   ]
  },
  {
   "attachments": {},
   "cell_type": "markdown",
   "metadata": {},
   "source": [
    "#### 3. Run a multivariate polynomial regression of the 2nd degree on all variable (Hint: set `include_bias=False` in `PolynomialFeatures`) **(2 points)**"
   ]
  },
  {
   "cell_type": "code",
   "execution_count": 57,
   "metadata": {},
   "outputs": [
    {
     "name": "stdout",
     "output_type": "stream",
     "text": [
      "Polynomial Regression MAE: 43.5816932543383\n",
      "Polynomial Regression MAPE: 0.38285678513539867\n"
     ]
    }
   ],
   "source": [
    "# Create a pipeline for polynomial regression\n",
    "pipeline = Pipeline([\n",
    "    (\"polynomial_features\", PolynomialFeatures(degree=2, include_bias=False)),\n",
    "    (\"linear_regression\", LinearRegression())\n",
    "])\n",
    "\n",
    "# Fit the pipeline on the training data\n",
    "pipeline.fit(X_train, y_train)\n",
    "\n",
    "# Make predictions using the pipeline\n",
    "poly_predictions = pipeline.predict(X_test)\n",
    "\n",
    "# To retrive the polynomial regression features\n",
    "poly_feature_names = polynomial_features.get_feature_names_out(diabetes.feature_names)\n",
    "\n",
    "# Calculate the Mean Absolute Error (MAE)\n",
    "poly_mae = mean_absolute_error(y_test, poly_predictions)\n",
    "poly_mape = mean_absolute_percentage_error(y_test, poly_predictions)\n",
    "\n",
    "# Print the MAE\n",
    "print(\"Polynomial Regression MAE:\", poly_mae)\n",
    "print(\"Polynomial Regression MAPE:\", poly_mape)\n"
   ]
  },
  {
   "attachments": {},
   "cell_type": "markdown",
   "metadata": {},
   "source": [
    "#### 4. Compare the two models by looking at MAE and MAPE using the provided function"
   ]
  },
  {
   "cell_type": "code",
   "execution_count": 58,
   "metadata": {},
   "outputs": [
    {
     "name": "stdout",
     "output_type": "stream",
     "text": [
      "Linear Regression MAE: 42.794094679599944\n",
      "Linear Regression MAPE: 0.3749982636756115\n",
      "Polynomial Regression MAE: 43.5816932543383\n",
      "Polynomial Regression MAPE: 0.38285678513539867\n"
     ]
    }
   ],
   "source": [
    "# Print the results\n",
    "print(\"Linear Regression MAE:\", linear_mae)\n",
    "print(\"Linear Regression MAPE:\", linear_mape)\n",
    "print(\"Polynomial Regression MAE:\", poly_mae)\n",
    "print(\"Polynomial Regression MAPE:\", poly_mape)\n"
   ]
  },
  {
   "attachments": {},
   "cell_type": "markdown",
   "metadata": {},
   "source": [
    "MAE represents the average absolute difference between the predicted and actual values, while the MAPE provides the average percentage difference between the predicted and actual values. By comparing the values of MAE and MAPE, you can assess the performance of the two models multivariate linear regression and polynomial regression (2nd degree) on the diabetes dataset and determine which one provides better results.\n",
    "\n",
    "Here lower the error difference better the model and so multivariate linear regression with MAE 42.79 and MAPE 0.37 is better than the polynomial regresion of 2nd degree with MAE 43.58 and MAPE 0.38"
   ]
  },
  {
   "attachments": {},
   "cell_type": "markdown",
   "metadata": {},
   "source": [
    "#### Plotting MAE and MAPE for visualization"
   ]
  },
  {
   "cell_type": "code",
   "execution_count": 59,
   "metadata": {},
   "outputs": [
    {
     "data": {
      "image/png": "[encoded data removed]",
      "text/plain": [
       "<Figure size 800x600 with 1 Axes>"
      ]
     },
     "metadata": {},
     "output_type": "display_data"
    },
    {
     "data": {
      "image/png": "[encoded data removed]",
      "text/plain": [
       "<Figure size 800x600 with 1 Axes>"
      ]
     },
     "metadata": {},
     "output_type": "display_data"
    }
   ],
   "source": [
    "\n",
    "# Define the models and their corresponding MAE and MAPE values\n",
    "models = ['Linear Regression', 'Polynomial Regression']\n",
    "mae_values = [linear_mae, poly_mae]\n",
    "mape_values = [linear_mape, poly_mape]  # MAPE value for Linear Regression is 0 since it wasn't calculated\n",
    "\n",
    "# Create a bar chart for MAE\n",
    "plt.figure(figsize=(8, 6))\n",
    "plt.bar(models, mae_values)\n",
    "plt.xlabel('Models')\n",
    "plt.ylabel('MAE')\n",
    "plt.title('Mean Absolute Error (MAE) Comparison')\n",
    "plt.show()\n",
    "\n",
    "# Create a bar chart for MAPE\n",
    "plt.figure(figsize=(8, 6))\n",
    "plt.bar(models, mape_values)\n",
    "plt.xlabel('Models')\n",
    "plt.ylabel('MAPE')\n",
    "plt.title('Mean Absolute Percentage Error (MAPE) Comparison')\n",
    "plt.show()"
   ]
  },
  {
   "attachments": {},
   "cell_type": "markdown",
   "metadata": {},
   "source": [
    "#### 5. You can add any further comparisons and code (this is not necessary for a perfect score, but will be reviewed and evaluated)\n"
   ]
  },
  {
   "attachments": {},
   "cell_type": "markdown",
   "metadata": {},
   "source": [
    "### At the end of your submission file, please answer the following questions **(3 points)**:"
   ]
  },
  {
   "cell_type": "code",
   "execution_count": null,
   "metadata": {},
   "outputs": [
    {
     "name": "stdout",
     "output_type": "stream",
     "text": [
      "Number of parameters in linear regression: 10\n",
      "Number of parameters in polynomial regression: 65\n"
     ]
    }
   ],
   "source": [
    "# Print the number of parameters for linear regression and polynomial regression\n",
    "print(\"Number of parameters in linear regression:\", X_train.shape[1])\n",
    "print(\"Number of parameters in polynomial regression:\", len(poly_feature_names))"
   ]
  },
  {
   "attachments": {},
   "cell_type": "markdown",
   "metadata": {},
   "source": [
    "#### 1. How many parameters are we fitting for in linear regression and in the polynomial regression? Explain these values. Hint: for explaining the parameters of the polynomial regression, you can use `poly.get_feature_names_out()`.\n",
    "\n",
    "In a linear regression, the number of features or variables in the dataset and the number of parameters being fitted are the same. The diabetes dataset has 10 input characteristics, which means the linear regression model would need to fit 10 parameters.\n",
    "\n",
    "In a polynomial regression, the degree of the polynomial and the number of input characteristics affect how many parameters are fitted. For instance, using poly_features.get_feature_names_out(), it is possible to determine the number of parameters in the above code snippet with polynomial regression of the second degree. The function returns the names of the newly formed polynomial features, and the number of parameters may be calculated by counting how many different feature names available. \n",
    "\n",
    "Here polynomial regression incorporates more interaction factors and higher-order terms than linear regression, so the number of parameters might be much greater in polynomial than linear regression.\n",
    "\n",
    "\n",
    "\n",
    "#### 2. Which model would you choose for deployment, and why?\n",
    "\n",
    "Here the linear regresion model has less error factor based on MAE and MAPE than polynomial regression. Usually linear regression has linear connecetion between the input and target variable so its simpler to comprehend and has less computational cost where as polynomial regression has non linear relationship between the input and target variable but potentially enhances the model performance. That is not the case in the above model. \n",
    "\n",
    "So I would linear regresion model for deployment for its better performance, reduced computational cost and interpretability.\n",
    "\n",
    "\n",
    "\n",
    "#### 3. What insights regarding the goodness-of-fit can you draw from the graphs provided by the function below, for each of the models?\n",
    "\n",
    "The graphs MAE and MAPE provides following insights on the goodness-of-fit of the given models\n",
    "\n",
    "The MAE is the measure of average absolute difference between the predicted and actual values. A lower MAE in the bar graphs denotes a better fit between the model and the data. So the linear regresion has the smaller average absolute difference, suggesting better overall fit.\n",
    "\n",
    "The MAPE is the measure of average percentage difference between the predicted and actual values. A lower MAPE in the bar graphs denotes a better fit between the model and the data. So the linear regresion has the smaller average percentage difference, suggesting better overall fit.\n",
    "\n",
    "Based on the MAE and MAPE metrics, these graphs enable a visual comparison of the models' goodness-of-fit. Lower values for both measures imply improved model performance in terms of precision and the clossness of predictions to actual values.\n"
   ]
  },
  {
   "cell_type": "code",
   "execution_count": null,
   "metadata": {},
   "outputs": [],
   "source": []
  },
  {
   "attachments": {},
   "cell_type": "markdown",
   "metadata": {},
   "source": []
  }
 ],
 "metadata": {
  "kernelspec": {
   "display_name": "CSCN8010_classic_ml",
   "language": "python",
   "name": "python3"
  },
  "language_info": {
   "codemirror_mode": {
    "name": "ipython",
    "version": 3
   },
   "file_extension": ".py",
   "mimetype": "text/x-python",
   "name": "python",
   "nbconvert_exporter": "python",
   "pygments_lexer": "ipython3",
   "version": "3.8.1"
  },
  "orig_nbformat": 4
 },
 "nbformat": 4,
 "nbformat_minor": 2
}
