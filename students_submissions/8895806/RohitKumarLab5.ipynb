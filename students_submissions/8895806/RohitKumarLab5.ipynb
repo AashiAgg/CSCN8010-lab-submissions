{
 "cells": [
  {
   "cell_type": "code",
   "execution_count": 2,
   "metadata": {},
   "outputs": [],
   "source": [
    "import numpy as np\n",
    "from sklearn import datasets\n",
    "from sklearn.preprocessing import PolynomialFeatures\n",
    "from sklearn.linear_model import LinearRegression\n",
    "from sklearn.model_selection import cross_val_score\n",
    "\n",
    "# Load the diabetes dataset\n",
    "X, y = datasets.load_diabetes(as_frame=True, scaled=False, return_X_y=True)\n",
    "\n",
    "# Perform cross-validation on polynomial models ranging from degree 0 to 8\n",
    "cv_results = []\n",
    "for degree in range(9):\n",
    "    if degree == 0:\n",
    "        poly_features = PolynomialFeatures(degree=1, include_bias=True)\n",
    "    else:\n",
    "        poly_features = PolynomialFeatures(degree=degree, include_bias=False)\n",
    "    \n",
    "\n",
    "    X_poly = poly_features.fit_transform(X)\n",
    "\n",
    "    linear_model = LinearRegression()\n",
    "\n",
    "    scores = cross_val_score(linear_model, X_poly, y, cv=5, scoring='r2')\n",
    "    mean_r2 = scores.mean()\n",
    "    mean_mae = -cross_val_score(linear_model, X_poly, y, cv=5, scoring='neg_mean_absolute_error').mean()\n",
    "    cv_results.append((degree, mean_r2, mean_mae))\n",
    "\n",
    "\n"
   ]
  },
  {
   "attachments": {},
   "cell_type": "markdown",
   "metadata": {},
   "source": [
    "This code performs cross-validation on polynomial models of different degrees ranging from 0 to 8. For each degree, it creates a polynomial feature transformer using PolynomialFeatures from scikit-learn. If the degree is 0, it sets degree=1 and includes the bias term by setting include_bias=True to avoid an empty output array.\n",
    "\n",
    "The cross_val_score function is used to perform cross-validation on the model. It computes the R-Squared scores by default. The mean R-Squared score and mean MAE are calculated and stored in the cv_results list for each degree."
   ]
  },
  {
   "cell_type": "code",
   "execution_count": 3,
   "metadata": {},
   "outputs": [
    {
     "name": "stdout",
     "output_type": "stream",
     "text": [
      "Model\t\tR-Squared\t\tMAE\n",
      "\n",
      "Degree 0:\t0.482\t\t44.276\n",
      "Degree 1:\t0.482\t\t44.276\n",
      "Degree 2:\t0.392\t\t46.613\n",
      "Degree 3:\t-158.689\t\t273.485\n",
      "Degree 4:\t-571.083\t\t657.260\n",
      "Degree 5:\t-436.857\t\t562.994\n",
      "Degree 6:\t-1696.116\t\t742.981\n",
      "Degree 7:\t-5530.894\t\t1032.682\n",
      "Degree 8:\t-16076.255\t\t1475.659\n"
     ]
    }
   ],
   "source": [
    "# Construct a table summarizing the cross-validation results\n",
    "print(\"Model\\t\\tR-Squared\\t\\tMAE\\n\")\n",
    "for result in cv_results:\n",
    "    print(f\"Degree {result[0]}:\\t{result[1]:.3f}\\t\\t{result[2]:.3f}\")\n"
   ]
  },
  {
   "attachments": {},
   "cell_type": "markdown",
   "metadata": {},
   "source": [
    "It prints a table summarizing the cross-validation results. It displays the degree, R-Squared score, and MAE for each model.\n",
    "\n"
   ]
  },
  {
   "cell_type": "code",
   "execution_count": 4,
   "metadata": {},
   "outputs": [
    {
     "name": "stdout",
     "output_type": "stream",
     "text": [
      "\n",
      "Best Model:\n",
      "Degree: 0\n",
      "R-Squared: 0.482\n",
      "MAE: 44.276\n"
     ]
    }
   ],
   "source": [
    "\n",
    "# Identify the best model based on R-Squared and MAE metrics\n",
    "best_model = max(cv_results, key=lambda x: x[1])\n",
    "best_degree = best_model[0]\n",
    "best_r2 = best_model[1]\n",
    "best_mae = best_model[2]\n",
    "\n",
    "print(\"\\nBest Model:\")\n",
    "print(f\"Degree: {best_degree}\")\n",
    "print(f\"R-Squared: {best_r2:.3f}\")\n",
    "print(f\"MAE: {best_mae:.3f}\")"
   ]
  },
  {
   "attachments": {},
   "cell_type": "markdown",
   "metadata": {},
   "source": [
    "It identifies the best model by finding the maximum R-Squared score. It retrieves the degree, R-Squared score, and MAE of the best model from the cv_results list. "
   ]
  }
 ],
 "metadata": {
  "kernelspec": {
   "display_name": "CSCN8010_classic_ml",
   "language": "python",
   "name": "python3"
  },
  "language_info": {
   "codemirror_mode": {
    "name": "ipython",
    "version": 3
   },
   "file_extension": ".py",
   "mimetype": "text/x-python",
   "name": "python",
   "nbconvert_exporter": "python",
   "pygments_lexer": "ipython3",
   "version": "3.11.3"
  },
  "orig_nbformat": 4
 },
 "nbformat": 4,
 "nbformat_minor": 2
}
