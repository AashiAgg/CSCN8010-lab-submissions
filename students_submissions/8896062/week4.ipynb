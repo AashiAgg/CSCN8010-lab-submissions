import numpy as np
array = np.linspace(5,50,10)
print(array)