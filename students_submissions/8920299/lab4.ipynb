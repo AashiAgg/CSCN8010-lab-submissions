{
 "cells": [
  {
   "cell_type": "markdown",
   "metadata": {},
   "source": [
    "<h1> <i> <b>\n",
    "Name: AASHI AGGARWAL <br>\n",
    "ID: 8920299\n",
    "\n",
    "</h1> </i> </b>"
   ]
  },
  {
   "cell_type": "code",
   "execution_count": 99,
   "metadata": {},
   "outputs": [],
   "source": [
    "import numpy as np\n",
    "from sklearn.model_selection import train_test_split \n",
    "from sklearn.metrics import mean_squared_error \n",
    "from sklearn.linear_model import LinearRegression\n",
    "from sklearn import metrics\n",
    "import matplotlib.pyplot as plt  \n",
    "from sklearn import datasets\n",
    "import pandas as pd"
   ]
  },
  {
   "cell_type": "markdown",
   "metadata": {},
   "source": [
    "<h3>\n",
    "1. LOAD DATA--> Diabetes dataset <br>\n",
    "2. Extracting X which is independent variable <br>\n",
    "    - to extract all the features to input the model <br>\n",
    "3. Extracting Y which is the dependent variable <br>\n",
    "    - to compare the predicted and actual model\n",
    "4. Splitting data into training and testing sets <br/>\n",
    "- \n",
    "</h3>"
   ]
  },
  {
   "cell_type": "code",
   "execution_count": 100,
   "metadata": {},
   "outputs": [],
   "source": [
    "from sklearn.datasets import load_diabetes\n",
    "from sklearn.model_selection import train_test_split\n",
    "\n",
    "# Load the Diabetes dataset\n",
    "diabetes = load_diabetes(scaled=True)\n",
    "\n",
    "# Extract features (x) and target (y)\n",
    "x,y = diabetes.data , diabetes.target\n",
    "\n",
    "\n",
    "\n",
    "x_train, x_temp, y_train, y_temp = train_test_split(x, y, test_size=0.4, random_state=42)\n",
    "x_val, x_test, y_val, y_test = train_test_split(x_temp, y_temp, test_size=0.5, random_state=42)"
   ]
  },
  {
   "cell_type": "markdown",
   "metadata": {},
   "source": [
    "<h3>\n",
    "5. Run a multivariate linear regression on all variables\n",
    "</h3>"
   ]
  },
  {
   "cell_type": "code",
   "execution_count": 101,
   "metadata": {},
   "outputs": [
    {
     "data": {
      "text/html": [
       "<style>#sk-container-id-12 {color: black;}#sk-container-id-12 pre{padding: 0;}#sk-container-id-12 div.sk-toggleable {background-color: white;}#sk-container-id-12 label.sk-toggleable__label {cursor: pointer;display: block;width: 100%;margin-bottom: 0;padding: 0.3em;box-sizing: border-box;text-align: center;}#sk-container-id-12 label.sk-toggleable__label-arrow:before {content: \"▸\";float: left;margin-right: 0.25em;color: #696969;}#sk-container-id-12 label.sk-toggleable__label-arrow:hover:before {color: black;}#sk-container-id-12 div.sk-estimator:hover label.sk-toggleable__label-arrow:before {color: black;}#sk-container-id-12 div.sk-toggleable__content {max-height: 0;max-width: 0;overflow: hidden;text-align: left;background-color: #f0f8ff;}#sk-container-id-12 div.sk-toggleable__content pre {margin: 0.2em;color: black;border-radius: 0.25em;background-color: #f0f8ff;}#sk-container-id-12 input.sk-toggleable__control:checked~div.sk-toggleable__content {max-height: 200px;max-width: 100%;overflow: auto;}#sk-container-id-12 input.sk-toggleable__control:checked~label.sk-toggleable__label-arrow:before {content: \"▾\";}#sk-container-id-12 div.sk-estimator input.sk-toggleable__control:checked~label.sk-toggleable__label {background-color: #d4ebff;}#sk-container-id-12 div.sk-label input.sk-toggleable__control:checked~label.sk-toggleable__label {background-color: #d4ebff;}#sk-container-id-12 input.sk-hidden--visually {border: 0;clip: rect(1px 1px 1px 1px);clip: rect(1px, 1px, 1px, 1px);height: 1px;margin: -1px;overflow: hidden;padding: 0;position: absolute;width: 1px;}#sk-container-id-12 div.sk-estimator {font-family: monospace;background-color: #f0f8ff;border: 1px dotted black;border-radius: 0.25em;box-sizing: border-box;margin-bottom: 0.5em;}#sk-container-id-12 div.sk-estimator:hover {background-color: #d4ebff;}#sk-container-id-12 div.sk-parallel-item::after {content: \"\";width: 100%;border-bottom: 1px solid gray;flex-grow: 1;}#sk-container-id-12 div.sk-label:hover label.sk-toggleable__label {background-color: #d4ebff;}#sk-container-id-12 div.sk-serial::before {content: \"\";position: absolute;border-left: 1px solid gray;box-sizing: border-box;top: 0;bottom: 0;left: 50%;z-index: 0;}#sk-container-id-12 div.sk-serial {display: flex;flex-direction: column;align-items: center;background-color: white;padding-right: 0.2em;padding-left: 0.2em;position: relative;}#sk-container-id-12 div.sk-item {position: relative;z-index: 1;}#sk-container-id-12 div.sk-parallel {display: flex;align-items: stretch;justify-content: center;background-color: white;position: relative;}#sk-container-id-12 div.sk-item::before, #sk-container-id-12 div.sk-parallel-item::before {content: \"\";position: absolute;border-left: 1px solid gray;box-sizing: border-box;top: 0;bottom: 0;left: 50%;z-index: -1;}#sk-container-id-12 div.sk-parallel-item {display: flex;flex-direction: column;z-index: 1;position: relative;background-color: white;}#sk-container-id-12 div.sk-parallel-item:first-child::after {align-self: flex-end;width: 50%;}#sk-container-id-12 div.sk-parallel-item:last-child::after {align-self: flex-start;width: 50%;}#sk-container-id-12 div.sk-parallel-item:only-child::after {width: 0;}#sk-container-id-12 div.sk-dashed-wrapped {border: 1px dashed gray;margin: 0 0.4em 0.5em 0.4em;box-sizing: border-box;padding-bottom: 0.4em;background-color: white;}#sk-container-id-12 div.sk-label label {font-family: monospace;font-weight: bold;display: inline-block;line-height: 1.2em;}#sk-container-id-12 div.sk-label-container {text-align: center;}#sk-container-id-12 div.sk-container {/* jupyter's `normalize.less` sets `[hidden] { display: none; }` but bootstrap.min.css set `[hidden] { display: none !important; }` so we also need the `!important` here to be able to override the default hidden behavior on the sphinx rendered scikit-learn.org. See: https://github.com/scikit-learn/scikit-learn/issues/21755 */display: inline-block !important;position: relative;}#sk-container-id-12 div.sk-text-repr-fallback {display: none;}</style><div id=\"sk-container-id-12\" class=\"sk-top-container\"><div class=\"sk-text-repr-fallback\"><pre>LinearRegression()</pre><b>In a Jupyter environment, please rerun this cell to show the HTML representation or trust the notebook. <br />On GitHub, the HTML representation is unable to render, please try loading this page with nbviewer.org.</b></div><div class=\"sk-container\" hidden><div class=\"sk-item\"><div class=\"sk-estimator sk-toggleable\"><input class=\"sk-toggleable__control sk-hidden--visually\" id=\"sk-estimator-id-12\" type=\"checkbox\" checked><label for=\"sk-estimator-id-12\" class=\"sk-toggleable__label sk-toggleable__label-arrow\">LinearRegression</label><div class=\"sk-toggleable__content\"><pre>LinearRegression()</pre></div></div></div></div></div>"
      ],
      "text/plain": [
       "LinearRegression()"
      ]
     },
     "execution_count": 101,
     "metadata": {},
     "output_type": "execute_result"
    }
   ],
   "source": [
    "from sklearn.linear_model import LinearRegression\n",
    "\n",
    "# Initialize and train the linear regression model\n",
    "lin_reg = LinearRegression()\n",
    "lin_reg.fit(x_train, y_train)\n"
   ]
  },
  {
   "cell_type": "markdown",
   "metadata": {},
   "source": [
    "<h3> \n",
    "6.  Run a polynomial regression of the 2nd degree on the BMI feature alone <br>\n",
    "\n",
    "<br>\n",
    "\n",
    "</h3>"
   ]
  },
  {
   "cell_type": "code",
   "execution_count": 102,
   "metadata": {},
   "outputs": [],
   "source": [
    "from sklearn.preprocessing import PolynomialFeatures\n",
    "\n",
    "df= pd.DataFrame(data=diabetes.data,columns=diabetes.feature_names)\n",
    "\n",
    "#BMI feature\n",
    "x_train_bmi = np.array(df[\"bmi\"]).reshape((-1, 1))\n",
    "# PolynomialFeatures\n",
    "poly = PolynomialFeatures(degree=2)\n",
    "x_train_bmi_poly = poly.fit_transform(x_train_bmi)\n",
    "\n",
    "\n"
   ]
  },
  {
   "cell_type": "markdown",
   "metadata": {},
   "source": [
    "<h3>\n",
    "7. Run a multivariate polynomial regression of the 2nd degree on all variable <br>\n",
    "#setting bias - false <br>\n",
    "\n",
    "</h3>\n"
   ]
  },
  {
   "cell_type": "code",
   "execution_count": 103,
   "metadata": {},
   "outputs": [],
   "source": [
    "poly = PolynomialFeatures(degree=2, include_bias=False)\n",
    "X_train_poly = poly.fit_transform(x_train)"
   ]
  },
  {
   "cell_type": "markdown",
   "metadata": {},
   "source": [
    "<h3>\n",
    "Compare the three models by looking at MAE and MAPE using the provided function\n",
    "\n",
    "<b> ----------------</b>\n",
    "\n",
    "<br>\n",
    "<h2> \n",
    "1. Predicting each model\n",
    "\n",
    "\n",
    "\n",
    "</h2>"
   ]
  },
  {
   "cell_type": "code",
   "execution_count": 104,
   "metadata": {},
   "outputs": [],
   "source": [
    "from sklearn.metrics import r2_score, mean_absolute_error\n",
    "import numpy as np\n",
    "\n",
    "y_pred_lin_reg = lin_reg.predict(x_test)\n",
    "y_pred_bmi_poly = np.dot(x_val[:, 2:3] ** 2, lin_reg.coef_[2:3]) + np.dot(x_val[:, 2:3], lin_reg.coef_[2:3]) + lin_reg.intercept_\n",
    "y_pred_multi_poly = lin_reg.predict(x_val)\n",
    "\n"
   ]
  },
  {
   "cell_type": "markdown",
   "metadata": {},
   "source": [
    "<h2> \n",
    "2. Calculating R-squared for each model. <br>\n",
    "\n",
    "\n",
    "\n",
    "\n",
    "</h2>"
   ]
  },
  {
   "cell_type": "code",
   "execution_count": 105,
   "metadata": {},
   "outputs": [
    {
     "name": "stdout",
     "output_type": "stream",
     "text": [
      "R-squared (Linear Regression): 0.43891375898156637\n",
      "R-squared (BMI Polynomial Regression): 0.31378440391273243\n",
      "R-squared (Multivariate Polynomial Regression): 0.5809667034070143\n"
     ]
    }
   ],
   "source": [
    "# Calculate R-squared for each model\n",
    "r2_lin_reg = r2_score(y_test, y_pred_lin_reg)\n",
    "r2_bmi_poly = r2_score(y_val, y_pred_bmi_poly)\n",
    "r2_multi_poly = r2_score(y_val, y_pred_multi_poly)\n",
    "\n",
    "print(\"R-squared (Linear Regression):\", r2_lin_reg)\n",
    "print(\"R-squared (BMI Polynomial Regression):\", r2_bmi_poly)\n",
    "print(\"R-squared (Multivariate Polynomial Regression):\", r2_multi_poly)\n",
    "\n"
   ]
  },
  {
   "cell_type": "markdown",
   "metadata": {},
   "source": [
    "<h1> Based on R - squared value:\n",
    "<br>\n",
    "As, higher R-squared indicates that the model explains a larger portion of the variance in the target variable.\n",
    "Multivariate Polynomial Regression models perform better and explain a larger proportion of the variance in the target variable which makes them better as compared to other Regression model.</h1>\n",
    "\n",
    "<br>\n",
    "\n",
    "\n",
    "<h2> \n",
    "2. Calculating MAPE for each model. <br>\n",
    "#Mean Absolute Percentage Error\n",
    "</h2>\n"
   ]
  },
  {
   "cell_type": "code",
   "execution_count": 106,
   "metadata": {},
   "outputs": [
    {
     "name": "stdout",
     "output_type": "stream",
     "text": [
      "\n",
      "MAPE (Linear Regression): 34.92031805723895 %\n",
      "MAPE (BMI Polynomial Regression): 50.3700071945691 %\n",
      "MAPE (Multivariate Polynomial Regression): 34.80184412774623 %\n"
     ]
    }
   ],
   "source": [
    "\n",
    "# Calculate MAPE for each model\n",
    "def calculate_mape(y_true, y_pred):\n",
    "    return np.mean(np.abs((y_true - y_pred) / y_true)) * 100\n",
    "\n",
    "mape_lin_reg = calculate_mape(y_test, y_pred_lin_reg)\n",
    "mape_bmi_poly = calculate_mape(y_val, y_pred_bmi_poly)\n",
    "mape_multi_poly = calculate_mape(y_val, y_pred_multi_poly)\n",
    "\n",
    "\n",
    "print(\"\\nMAPE (Linear Regression):\", mape_lin_reg, \"%\")\n",
    "print(\"MAPE (BMI Polynomial Regression):\", mape_bmi_poly, \"%\")\n",
    "print(\"MAPE (Multivariate Polynomial Regression):\", mape_multi_poly, \"%\")"
   ]
  },
  {
   "cell_type": "markdown",
   "metadata": {},
   "source": [
    "<h1> Based on MAPE value:\n",
    "\n",
    "Both Linear Regression and Multivariate Polynomial Regression have very similar MAPE of 34, suggesting that these models have similar performance in terms of percentage error.\n",
    "As, lower value indicates better performance, Multivariate Polynomial Regression performs the best.\n",
    "\n",
    "</h1>\n",
    "\n",
    "<br>\n",
    "\n",
    "\n",
    "<h2> \n",
    "3. Calculating MAE for each model. <br>\n",
    "#Mean Absolute Error\n",
    "</h2>\n"
   ]
  },
  {
   "cell_type": "code",
   "execution_count": 107,
   "metadata": {},
   "outputs": [
    {
     "name": "stdout",
     "output_type": "stream",
     "text": [
      "\n",
      "MAE (Linear Regression): 46.72401655139614\n",
      "MAE (BMI Polynomial Regression): 53.32295802979787\n",
      "MAE (Multivariate Polynomial Regression): 38.22127405114377\n"
     ]
    }
   ],
   "source": [
    "# Calculate MAE for each model\n",
    "mae_lin_reg = mean_absolute_error(y_test, y_pred_lin_reg)\n",
    "mae_bmi_poly = mean_absolute_error(y_val, y_pred_bmi_poly)\n",
    "mae_multi_poly = mean_absolute_error(y_val, y_pred_multi_poly)\n",
    "\n",
    "print(\"\\nMAE (Linear Regression):\", mae_lin_reg)\n",
    "print(\"MAE (BMI Polynomial Regression):\", mae_bmi_poly)\n",
    "print(\"MAE (Multivariate Polynomial Regression):\", mae_multi_poly)\n"
   ]
  },
  {
   "cell_type": "markdown",
   "metadata": {},
   "source": [
    "<h1> Based on MAE value: <br>\n",
    "In terms of MAE, lower values are better, as they indicate that the model's predictions are closer to the actual values. so,\n",
    "\n",
    "The Multivariate Polynomial Regression model has the lowest MAE (38.22), which means it has the best performance in terms of absolute prediction errors on the validation data.\n",
    "\n",
    "\n",
    "\n",
    "</h1>\n",
    "\n",
    "<br>\n"
   ]
  },
  {
   "cell_type": "markdown",
   "metadata": {},
   "source": [
    "<h4>\n",
    "\n",
    "Please answer the following questions:\n",
    "How many parameters are we fitting for each of the three models? Explain these values. \n",
    "\n",
    "</h4>"
   ]
  },
  {
   "cell_type": "code",
   "execution_count": 108,
   "metadata": {},
   "outputs": [
    {
     "name": "stdout",
     "output_type": "stream",
     "text": [
      "Number of parameters (Linear Regression): 11\n",
      "Number of parameters (BMI Polynomial Regression): 3\n",
      "Number of parameters (Multivariate Polynomial Regression): 65\n"
     ]
    }
   ],
   "source": [
    "num_params_linear = x_train.shape[1] + 1  # Features + 1 for the intercept in Linear Regression\n",
    "num_params_bmi_poly = x_train_bmi_poly.shape[1]  # Parameters for BMI Polynomial Regression\n",
    "num_params_multi_poly = X_train_poly.shape[1] \n",
    "\n",
    "\n",
    "print(f\"Number of parameters (Linear Regression): {num_params_linear}\")\n",
    "print(f\"Number of parameters (BMI Polynomial Regression): {num_params_bmi_poly}\")\n",
    "print(f\"Number of parameters (Multivariate Polynomial Regression): {num_params_multi_poly}\")"
   ]
  },
  {
   "cell_type": "markdown",
   "metadata": {},
   "source": [
    "<h3> <i>Which model would you choose for deployment, and why? (1 point) </i> </h3>\n",
    "<br>\n",
    "\n",
    "<h1>\n",
    "Based on camparing the model predicted parameters, Multivariate Polynomial Regression is the best as it has better predicition accuracy.\n",
    "\n",
    "\n",
    "</h1>"
   ]
  },
  {
   "cell_type": "markdown",
   "metadata": {},
   "source": []
  }
 ],
 "metadata": {
  "kernelspec": {
   "display_name": "Python 3",
   "language": "python",
   "name": "python3"
  },
  "language_info": {
   "codemirror_mode": {
    "name": "ipython",
    "version": 3
   },
   "file_extension": ".py",
   "mimetype": "text/x-python",
   "name": "python",
   "nbconvert_exporter": "python",
   "pygments_lexer": "ipython3",
   "version": "3.11.0"
  }
 },
 "nbformat": 4,
 "nbformat_minor": 2
}
