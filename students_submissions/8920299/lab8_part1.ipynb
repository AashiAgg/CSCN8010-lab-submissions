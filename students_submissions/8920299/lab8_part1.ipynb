{
 "cells": [
  {
   "cell_type": "markdown",
   "metadata": {},
   "source": [
    "<h1>\n",
    "student id: 8920299 <br>\n",
    "name: Aashi Aggarwal\n",
    "</h1>\n"
   ]
  },
  {
   "cell_type": "markdown",
   "metadata": {},
   "source": [
    "<h3>\n",
    "Using PyTorch: <br>\n",
    "Calculate the dot product between two vectors each of length 3 (1.5 points)\n",
    "</h3>"
   ]
  },
  {
   "cell_type": "code",
   "execution_count": 5,
   "metadata": {},
   "outputs": [
    {
     "name": "stdout",
     "output_type": "stream",
     "text": [
      "Dot Product of pt_vect1 and pt_vect2: 102\n"
     ]
    }
   ],
   "source": [
    "import torch\n",
    "\n",
    "# Defining the two vectors\n",
    "pt_vect1 = torch.tensor([3, 6, 9])\n",
    "pt_vect2 = torch.tensor([2, 4, 8])\n",
    "\n",
    "# Calculate the dot product \n",
    "dot_product = torch.dot(pt_vect1, pt_vect2)\n",
    "\n",
    "# Print the result\n",
    "print(\"Dot Product of pt_vect1 and pt_vect2:\", dot_product.item())"
   ]
  },
  {
   "cell_type": "markdown",
   "metadata": {},
   "source": [
    "<h3>\n",
    "Using PyTorch: <br>\n",
    "Calculate the matrix multiplication of two 2-dimensional matrices, each with a size of (2,2) (1.5 points)\n",
    "</h3>"
   ]
  },
  {
   "cell_type": "code",
   "execution_count": 6,
   "metadata": {},
   "outputs": [
    {
     "name": "stdout",
     "output_type": "stream",
     "text": [
      "tensor([[138, 720],\n",
      "        [939, 624]])\n"
     ]
    }
   ],
   "source": [
    "matrix1 = torch.tensor([[22,2],[3,66]])\n",
    "matrix2 = torch.tensor([[5,32],[14,8]])\n",
    "\n",
    "print(torch.matmul(matrix1,matrix2))"
   ]
  },
  {
   "cell_type": "markdown",
   "metadata": {},
   "source": []
  }
 ],
 "metadata": {
  "kernelspec": {
   "display_name": "Python 3",
   "language": "python",
   "name": "python3"
  },
  "language_info": {
   "codemirror_mode": {
    "name": "ipython",
    "version": 3
   },
   "file_extension": ".py",
   "mimetype": "text/x-python",
   "name": "python",
   "nbconvert_exporter": "python",
   "pygments_lexer": "ipython3",
   "version": "3.11.0"
  }
 },
 "nbformat": 4,
 "nbformat_minor": 2
}
