{
 "cells": [
  {
   "cell_type": "markdown",
   "metadata": {},
   "source": [
    "<h1>\n",
    "student id: 8920299 <br>\n",
    "name: Aashi Aggarwal\n",
    "</h1>\n"
   ]
  },
  {
   "cell_type": "markdown",
   "metadata": {},
   "source": [
    "<h3>\n",
    "Using Tensorflow:<br>\n",
    "Calculate the dot product between the same vectors as above (re-define them in Tensorflow)\n",
    "</h3>"
   ]
  },
  {
   "cell_type": "code",
   "execution_count": 6,
   "metadata": {},
   "outputs": [
    {
     "name": "stdout",
     "output_type": "stream",
     "text": [
      "tf.Tensor([9 8 3], shape=(3,), dtype=int32)\n",
      "tf.Tensor([ 8 50 16], shape=(3,), dtype=int32)\n",
      "tf.Tensor(520, shape=(), dtype=int32)\n"
     ]
    }
   ],
   "source": [
    "import tensorflow as t\n",
    "vector1 = t.constant([9,8,3])\n",
    "vector2 = t.constant([8,50,16])\n",
    "\n",
    "print(vector1)\n",
    "print(vector2)\n",
    "\n",
    "print(t.tensordot(vector1,vector2,axes=1))"
   ]
  },
  {
   "cell_type": "markdown",
   "metadata": {},
   "source": [
    "<h3>\n",
    "Calculate the matrix multiplication of the same matrics as above (re-define them in Tensorflow) (1.5 points)\n",
    "</h3>"
   ]
  },
  {
   "cell_type": "code",
   "execution_count": 7,
   "metadata": {},
   "outputs": [
    {
     "name": "stdout",
     "output_type": "stream",
     "text": [
      "tf.Tensor(\n",
      "[[138 720]\n",
      " [939 624]], shape=(2, 2), dtype=int32)\n"
     ]
    }
   ],
   "source": [
    "matrix1 = t.constant([[22,2],[3,66]])\n",
    "matrix2 = t.constant([[5,32],[14,8]])\n",
    "\n",
    "print(t.matmul(matrix1,matrix2))\n"
   ]
  }
 ],
 "metadata": {
  "kernelspec": {
   "display_name": "tensorflow_cpu",
   "language": "python",
   "name": "python3"
  },
  "language_info": {
   "codemirror_mode": {
    "name": "ipython",
    "version": 3
   },
   "file_extension": ".py",
   "mimetype": "text/x-python",
   "name": "python",
   "nbconvert_exporter": "python",
   "pygments_lexer": "ipython3",
   "version": "3.11.0"
  }
 },
 "nbformat": 4,
 "nbformat_minor": 2
}
